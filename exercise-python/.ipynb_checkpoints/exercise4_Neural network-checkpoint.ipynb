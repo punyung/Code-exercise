{
 "cells": [
  {
   "cell_type": "markdown",
   "id": "91c67c7d",
   "metadata": {},
   "source": [
    "# 4.Neural network"
   ]
  },
  {
   "cell_type": "markdown",
   "id": "82ea976e",
   "metadata": {},
   "source": [
    "Implement a full connected feedforward network from scratch using only the numpy library with the following layers: one input, two hidden, and one output. Neurons should use the sigmoid transfer function. The network should be trained using backpropagation of errors."
   ]
  },
  {
   "cell_type": "code",
   "execution_count": 5,
   "id": "611c1838",
   "metadata": {},
   "outputs": [],
   "source": [
    "import numpy as np\n",
    "\n",
    "class NeuralNetwork:\n",
    "    def __init__(self, input_size, hidden_sizes, output_size):\n",
    "        self.input_size = input_size\n",
    "        self.hidden_sizes = hidden_sizes\n",
    "        self.output_size = output_size\n",
    "        self.weights = []\n",
    "        self.biases = []\n",
    "        layer_sizes = [input_size] + hidden_sizes + [output_size]\n",
    "        \n",
    "        # Initialize weights and biases for each layer\n",
    "        for i in range(len(layer_sizes) - 1):\n",
    "            weight_matrix = np.random.randn(layer_sizes[i+1], layer_sizes[i])\n",
    "            self.weights.append(weight_matrix)\n",
    "            bias_matrix = np.random.randn(layer_sizes[i+1], 1)\n",
    "            self.biases.append(bias_matrix)\n",
    "    \n",
    "    def sigmoid(self, x):\n",
    "        return 1 / (1 + np.exp(-x))\n",
    "    \n",
    "    def sigmoid_derivative(self, x):\n",
    "        return self.sigmoid(x) * (1 - self.sigmoid(x))\n",
    "    \n",
    "    def forward_propagate(self, x):\n",
    "        activations = [x]\n",
    "        for i in range(len(self.weights)):\n",
    "            activation = self.sigmoid(np.dot(self.weights[i], activations[-1]) + self.biases[i])\n",
    "            activations.append(activation)\n",
    "        return activations\n",
    "    \n",
    "    def backward_propagate(self, x, y, learning_rate):\n",
    "        activations = self.forward_propagate(x)\n",
    "        #y = np.array([y==0,y==1]).reshape(-1,1)\n",
    "        errors = [activations[-1] - y]\n",
    "        \n",
    "        for i in range(len(self.weights)-1, -1, -1):\n",
    "            gradient = errors[-1] * self.sigmoid_derivative(activations[i+1])\n",
    "            delta_weights = -learning_rate * np.dot(gradient, activations[i].T)\n",
    "            delta_biases = -learning_rate * gradient\n",
    "            self.weights[i] += delta_weights\n",
    "            self.biases[i] += delta_biases\n",
    "            errors.append(np.dot(self.weights[i].T, errors[-1]) * self.sigmoid_derivative(activations[i]))\n",
    "    \n",
    "    def train(self, X, y, epochs, learning_rate):\n",
    "        for epoch in range(epochs):\n",
    "            for x, y_true in zip(X, y):\n",
    "                x = x.reshape(-1, 1)\n",
    "                y_true = y_true.reshape(-1, 1)\n",
    "                self.backward_propagate(x, y_true, learning_rate)\n",
    "    \n",
    "    def predict(self, X):\n",
    "        predicted_labels = []\n",
    "        for x in X:\n",
    "            x = x.reshape(-1, 1)\n",
    "            output = self.forward_propagate(x)[-1]\n",
    "            #predicted_label = np.argmax(output) # print the index of element\n",
    "            #predicted_labels.append(predicted_label)\n",
    "            predicted_labels.append(output)\n",
    "        return predicted_labels"
   ]
  },
  {
   "cell_type": "code",
   "execution_count": null,
   "id": "dc510a21",
   "metadata": {},
   "outputs": [],
   "source": [
    "import numpy as np\n",
    "y = np.array([[0], [1], [1], [0]])\n",
    "y = np.array([y==0,y==1]).reshape(-1,1)\n",
    "print(y)"
   ]
  },
  {
   "cell_type": "code",
   "execution_count": 7,
   "id": "db16b8bf",
   "metadata": {},
   "outputs": [
    {
     "ename": "AttributeError",
     "evalue": "'NeuralNetwork' object has no attribute 'predict_proba'",
     "output_type": "error",
     "traceback": [
      "\u001b[0;31m---------------------------------------------------------------------------\u001b[0m",
      "\u001b[0;31mAttributeError\u001b[0m                            Traceback (most recent call last)",
      "\u001b[0;32m/var/folders/l_/05d4s2wx2r553r67w2zvqng40000gn/T/ipykernel_52483/136138274.py\u001b[0m in \u001b[0;36m<module>\u001b[0;34m\u001b[0m\n\u001b[1;32m     12\u001b[0m \u001b[0;31m# Make predictions on new data\u001b[0m\u001b[0;34m\u001b[0m\u001b[0;34m\u001b[0m\u001b[0m\n\u001b[1;32m     13\u001b[0m \u001b[0mtest_data\u001b[0m \u001b[0;34m=\u001b[0m \u001b[0mnp\u001b[0m\u001b[0;34m.\u001b[0m\u001b[0marray\u001b[0m\u001b[0;34m(\u001b[0m\u001b[0;34m[\u001b[0m\u001b[0;34m[\u001b[0m\u001b[0;36m1\u001b[0m\u001b[0;34m,\u001b[0m \u001b[0;36m0\u001b[0m\u001b[0;34m]\u001b[0m\u001b[0;34m,\u001b[0m \u001b[0;34m[\u001b[0m\u001b[0;36m0\u001b[0m\u001b[0;34m,\u001b[0m \u001b[0;36m1\u001b[0m\u001b[0;34m]\u001b[0m\u001b[0;34m]\u001b[0m\u001b[0;34m)\u001b[0m\u001b[0;34m\u001b[0m\u001b[0;34m\u001b[0m\u001b[0m\n\u001b[0;32m---> 14\u001b[0;31m \u001b[0mpredictions\u001b[0m \u001b[0;34m=\u001b[0m \u001b[0mnn\u001b[0m\u001b[0;34m.\u001b[0m\u001b[0mpredict_proba\u001b[0m\u001b[0;34m(\u001b[0m\u001b[0mtest_data\u001b[0m\u001b[0;34m)\u001b[0m\u001b[0;34m\u001b[0m\u001b[0;34m\u001b[0m\u001b[0m\n\u001b[0m\u001b[1;32m     15\u001b[0m \u001b[0mprint\u001b[0m\u001b[0;34m(\u001b[0m\u001b[0;34m'Predictions:'\u001b[0m\u001b[0;34m,\u001b[0m \u001b[0mpredictions\u001b[0m\u001b[0;34m)\u001b[0m\u001b[0;34m\u001b[0m\u001b[0;34m\u001b[0m\u001b[0m\n",
      "\u001b[0;31mAttributeError\u001b[0m: 'NeuralNetwork' object has no attribute 'predict_proba'"
     ]
    }
   ],
   "source": [
    "# Sample data\n",
    "X = np.array([[0, 0], [0, 1], [1, 0], [1, 1]])  # Input features\n",
    "y = np.array([[0], [1], [1], [0]])  # Target outputs\n",
    "#y = np.array([y==0,y==1]).reshape(-1,1)\n",
    "\n",
    "# Create a neural network with one input layer, two hidden layers (each with 4 neurons), and one output layer\n",
    "nn = NeuralNetwork(input_size=2, hidden_sizes=[4, 4], output_size=1)\n",
    "\n",
    "# Train the neural network\n",
    "nn.train(X, y, epochs=10000, learning_rate=0.1)\n",
    "\n",
    "# Make predictions on new data\n",
    "test_data = np.array([[1, 0], [0, 1]])\n",
    "predictions = nn.predict(test_data)\n",
    "print('Predictions:', predictions)"
   ]
  },
  {
   "cell_type": "code",
   "execution_count": null,
   "id": "d88ef379",
   "metadata": {},
   "outputs": [],
   "source": []
  }
 ],
 "metadata": {
  "kernelspec": {
   "display_name": "Python 3 (ipykernel)",
   "language": "python",
   "name": "python3"
  },
  "language_info": {
   "codemirror_mode": {
    "name": "ipython",
    "version": 3
   },
   "file_extension": ".py",
   "mimetype": "text/x-python",
   "name": "python",
   "nbconvert_exporter": "python",
   "pygments_lexer": "ipython3",
   "version": "3.9.7"
  }
 },
 "nbformat": 4,
 "nbformat_minor": 5
}
