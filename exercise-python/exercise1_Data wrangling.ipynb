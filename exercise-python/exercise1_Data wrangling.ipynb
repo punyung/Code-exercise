{
 "cells": [
  {
   "cell_type": "markdown",
   "id": "c699bd9c",
   "metadata": {},
   "source": [
    "# 1.Data wrangling"
   ]
  },
  {
   "cell_type": "code",
   "execution_count": 2,
   "id": "4a6b849a",
   "metadata": {},
   "outputs": [
    {
     "name": "stdout",
     "output_type": "stream",
     "text": [
      "3.9.12 (main, Apr  4 2022, 05:22:27) [MSC v.1916 64 bit (AMD64)]\n",
      "D:\\Users\\punyung\\anaconda3\\python.exe\n"
     ]
    }
   ],
   "source": [
    "import sys\n",
    "print(sys.version)\n",
    "print(sys.executable) # check the environment"
   ]
  },
  {
   "cell_type": "code",
   "execution_count": null,
   "id": "886cf6e3",
   "metadata": {
    "scrolled": true
   },
   "outputs": [],
   "source": [
    "#install pacckage\n",
    "!pip install pandas\n",
    "!pip list\n",
    "!pip install numpy"
   ]
  },
  {
   "cell_type": "code",
   "execution_count": 18,
   "id": "2ebce7d1",
   "metadata": {},
   "outputs": [
    {
     "name": "stdout",
     "output_type": "stream",
     "text": [
      "          A      B   C   D          E\n",
      "0  0.620107   test  52  74 2021-01-31\n",
      "1  0.913084   test  36  19 2021-02-28\n",
      "2  0.932422  train   2  44 2021-03-31\n",
      "3  0.453451   test  31  59 2021-04-30\n",
      "4  0.784750   test  48  68 2021-05-31\n",
      "5  0.366991   test  15  34 2021-06-30\n"
     ]
    }
   ],
   "source": [
    "import pandas as pd\n",
    "import numpy as np\n",
    "\n",
    "# Task1.1: Create a DataFrame named df with 6 nrows with the following columns:\n",
    "\n",
    "# define the number of rows\n",
    "nrows = 6\n",
    "\n",
    "# define the data for the DataFrame\n",
    "data = {\n",
    "    'A': np.random.rand(nrows),\n",
    "    'B': np.random.choice([\"test\",\"train\"],nrows),\n",
    "    'C':np.random.randint(1,100,nrows),\n",
    "    'D':pd.Series(np.random.randint(1,100,nrows)),\n",
    "    'E':pd.date_range(start='2021-01-01',periods=nrows,freq='M')\n",
    "}\n",
    "\n",
    "# Create the DataFrame\n",
    "df = pd.DataFrame(data)\n",
    "\n",
    "# Print the DataFrame\n",
    "print(df)\n"
   ]
  },
  {
   "cell_type": "code",
   "execution_count": 19,
   "id": "472c6d5f",
   "metadata": {},
   "outputs": [
    {
     "name": "stdout",
     "output_type": "stream",
     "text": [
      "[126.620107    55.91308351  46.9324215   90.45345074 116.78474955\n",
      "  49.36699056]\n"
     ]
    }
   ],
   "source": [
    "# Task1.2: Convert numeric columns into a numpy.matrix and compute the row sums.\n",
    "\n",
    "# Select the numeric columns of the DataFrame\n",
    "numeric_columns = df.select_dtypes(include=[np.number])\n",
    "\n",
    "# Convert the numeric columns into a numpy matrix\n",
    "matrix = numeric_columns.to_numpy()\n",
    "\n",
    "# Compute the row sums\n",
    "row_sums = np.sum(matrix, axis=1)\n",
    "\n",
    "# Print the row sums\n",
    "print(row_sums)"
   ]
  },
  {
   "cell_type": "code",
   "execution_count": 20,
   "id": "bc88b6c5",
   "metadata": {},
   "outputs": [
    {
     "name": "stdout",
     "output_type": "stream",
     "text": [
      "          A      B   C   D          E\n",
      "2  0.932422  train   2  44 2021-03-31\n",
      "5  0.366991   test  15  34 2021-06-30\n",
      "3  0.453451   test  31  59 2021-04-30\n",
      "1  0.913084   test  36  19 2021-02-28\n",
      "4  0.784750   test  48  68 2021-05-31\n",
      "0  0.620107   test  52  74 2021-01-31\n"
     ]
    }
   ],
   "source": [
    "# Task1.3 Sort df by column C\n",
    "\n",
    "# Sort df by column C (ascending order)\n",
    "df_sorted = df.sort_values('C')\n",
    "\n",
    "# Print the sorted DataFrame\n",
    "print(df_sorted)"
   ]
  },
  {
   "cell_type": "code",
   "execution_count": 21,
   "id": "52685367",
   "metadata": {},
   "outputs": [
    {
     "name": "stdout",
     "output_type": "stream",
     "text": [
      "          A      B  C   D          E\n",
      "2  0.932422  train  2  44 2021-03-31\n"
     ]
    }
   ],
   "source": [
    "#Task1.4 Filter df for entries for which B has value train and C has values greater than 0\n",
    "\n",
    "# Filter df based on the conditions\n",
    "filtered_df = df[(df['B'] == 'train') & (df['C'] > 0)]\n",
    "\n",
    "# Print the filtered DataFrame\n",
    "print(filtered_df)"
   ]
  },
  {
   "cell_type": "code",
   "execution_count": 22,
   "id": "400024a8",
   "metadata": {},
   "outputs": [
    {
     "name": "stdout",
     "output_type": "stream",
     "text": [
      "          A      B   C   D          E\n",
      "0  0.620107   test  52  74 2021-01-31\n",
      "1  0.913084   test  36  10 2021-02-28\n",
      "2  0.932422  train   2  44 2021-03-31\n",
      "3  0.453451   test  31  59 2021-04-30\n",
      "4  0.784750   test  48  68 2021-05-31\n",
      "5  0.366991   test  15  34 2021-06-30\n"
     ]
    }
   ],
   "source": [
    "#Task1.5 Change the value in the 4th column and 2nd row to 10.\n",
    "# Change the value to 10\n",
    "df.iloc[1, 3] = 10\n",
    "\n",
    "# Print the modified DataFrame\n",
    "print(df)"
   ]
  },
  {
   "cell_type": "code",
   "execution_count": 23,
   "id": "9c1e4b9b",
   "metadata": {},
   "outputs": [
    {
     "name": "stdout",
     "output_type": "stream",
     "text": [
      "          A      B   C   D          E    F\n",
      "0  0.620107   test  52  74 2021-01-31  NaN\n",
      "1  0.913084   test  36  10 2021-02-28  NaN\n",
      "2  0.932422  train   2  44 2021-03-31  NaN\n",
      "3  0.453451   test  31  59 2021-04-30  0.0\n",
      "4  0.784750   test  48  68 2021-05-31  0.0\n",
      "5  0.366991   test  15  34 2021-06-30  0.0\n"
     ]
    }
   ],
   "source": [
    "#Task1.6 Create a column F where half the values are NaN.\n",
    "\n",
    "# Calculate the number of rows in the DataFrame\n",
    "num_rows = df.shape[0]\n",
    "\n",
    "# Create an array of NaN values with half the length of the DataFrame\n",
    "nan_values = np.empty(num_rows // 2)\n",
    "nan_values[:] = np.nan\n",
    "\n",
    "# Assign the NaN values to column F\n",
    "df['F'] = np.concatenate([nan_values, np.zeros(num_rows - len(nan_values))])\n",
    "\n",
    "# Print the updated DataFrame\n",
    "print(df)"
   ]
  },
  {
   "cell_type": "code",
   "execution_count": 24,
   "id": "d6acb4cb",
   "metadata": {},
   "outputs": [
    {
     "name": "stdout",
     "output_type": "stream",
     "text": [
      "DataFrame without missing data:\n",
      "          A     B   C   D          E    F\n",
      "3  0.453451  test  31  59 2021-04-30  0.0\n",
      "4  0.784750  test  48  68 2021-05-31  0.0\n",
      "5  0.366991  test  15  34 2021-06-30  0.0\n",
      "\n",
      "DataFrame with missing values filled with 0:\n",
      "          A      B   C   D          E    F\n",
      "0  0.620107   test  52  74 2021-01-31  0.0\n",
      "1  0.913084   test  36  10 2021-02-28  0.0\n",
      "2  0.932422  train   2  44 2021-03-31  0.0\n",
      "3  0.453451   test  31  59 2021-04-30  0.0\n",
      "4  0.784750   test  48  68 2021-05-31  0.0\n",
      "5  0.366991   test  15  34 2021-06-30  0.0\n"
     ]
    }
   ],
   "source": [
    "# Task1.7 Deal with missing values in two different ways:\n",
    "\n",
    "#1.remove entries with missing data\n",
    "#2.fill missing values with 0\n",
    "\n",
    "# Remove entries with missing data\n",
    "df_without_missing = df.dropna()\n",
    "\n",
    "# Fill missing values with 0\n",
    "df_filled_with_zero = df.fillna(0)\n",
    "\n",
    "# Print the DataFrames after handling missing values\n",
    "print(\"DataFrame without missing data:\")\n",
    "print(df_without_missing)\n",
    "\n",
    "print(\"\\nDataFrame with missing values filled with 0:\")\n",
    "print(df_filled_with_zero)"
   ]
  },
  {
   "cell_type": "code",
   "execution_count": 25,
   "id": "35cdaa7c",
   "metadata": {},
   "outputs": [
    {
     "name": "stdout",
     "output_type": "stream",
     "text": [
      "          A      B   C   D          E    F  A_cumulative_sum\n",
      "0  0.620107   test  52  74 2021-01-31  NaN          0.620107\n",
      "1  0.913084   test  36  10 2021-02-28  NaN          1.533191\n",
      "2  0.932422  train   2  44 2021-03-31  NaN          2.465612\n",
      "3  0.453451   test  31  59 2021-04-30  0.0          2.919063\n",
      "4  0.784750   test  48  68 2021-05-31  0.0          3.703812\n",
      "5  0.366991   test  15  34 2021-06-30  0.0          4.070803\n"
     ]
    }
   ],
   "source": [
    "#Task1.8 Convert column A into a cumulative sum.\n",
    "# Convert column A into a cumulative sum\n",
    "df['A_cumulative_sum'] = df['A'].cumsum()\n",
    "\n",
    "# Print the modified DataFrame\n",
    "print(df)"
   ]
  },
  {
   "cell_type": "code",
   "execution_count": null,
   "id": "d019d1e1",
   "metadata": {},
   "outputs": [],
   "source": [
    "#Task1.9 Subtract column A from column B\n",
    "df['B_minus_A'] = df['B'] - df['A']\n",
    "\n",
    "# Print the modified DataFrame\n",
    "print(df)"
   ]
  },
  {
   "cell_type": "code",
   "execution_count": 31,
   "id": "46f5d313",
   "metadata": {},
   "outputs": [
    {
     "data": {
      "image/png": "[encoded data removed]",
      "text/plain": [
       "<Figure size 432x288 with 1 Axes>"
      ]
     },
     "metadata": {
      "needs_background": "light"
     },
     "output_type": "display_data"
    }
   ],
   "source": [
    "#Task1.10 Plot the numeric columns as a line plot, ensuring that the plot has proper labels.\n",
    "# Plot the numeric columns as a line plot\n",
    "import matplotlib.pyplot as plt\n",
    "df.plot(x='B',y='A',kind='line')\n",
    "plt.xlabel('Dataset')\n",
    "plt.ylabel('Value')\n",
    "plt.title('Line Plot')\n",
    "\n",
    "# Show the plot\n",
    "plt.show()"
   ]
  },
  {
   "cell_type": "code",
   "execution_count": 32,
   "id": "de51f2c4",
   "metadata": {},
   "outputs": [
    {
     "name": "stdout",
     "output_type": "stream",
     "text": [
      "              A     C     D    F  A_cumulative_sum\n",
      "B                                                 \n",
      "test   0.627676  36.4  49.0  0.0          2.569395\n",
      "train  0.932422   2.0  44.0  NaN          2.465612\n"
     ]
    }
   ],
   "source": [
    "#Task1.11 Compute the mean values of each column for groups train and test.\n",
    "# Group the DataFrame by the \"B\" column and calculate the mean values for each group\n",
    "grouped_means = df.groupby(\"B\").mean()\n",
    "\n",
    "# Display the mean values\n",
    "print(grouped_means)"
   ]
  },
  {
   "cell_type": "code",
   "execution_count": 50,
   "id": "af761e7f",
   "metadata": {
    "scrolled": true
   },
   "outputs": [
    {
     "name": "stdout",
     "output_type": "stream",
     "text": [
      "   value group\n",
      "0      1     a\n",
      "1      2     a\n",
      "2      3     a\n",
      "3      4     b\n",
      "4      5     b\n",
      "5      6     b\n",
      "group    a    b\n",
      "0      1.0  NaN\n",
      "1      2.0  NaN\n",
      "2      3.0  NaN\n",
      "3      NaN  4.0\n",
      "4      NaN  5.0\n",
      "5      NaN  6.0\n",
      "   a  b\n",
      "0  1  4\n",
      "1  2  5\n",
      "2  3  6\n",
      "  group  value\n",
      "0     a      1\n",
      "1     a      2\n",
      "2     a      3\n",
      "3     b      4\n",
      "4     b      5\n",
      "5     b      6\n"
     ]
    }
   ],
   "source": [
    "# Task1.12 Convert dataframe \n",
    "\n",
    "#Convert the following DataFrame from a into b (long to wide).\n",
    "\n",
    "a = pd.DataFrame(\n",
    "    {\"value\": [1, 2, 3, 4, 5, 6], \"group\": [\"a\", \"a\", \"a\", \"b\", \"b\", \"b\"]}\n",
    ")\n",
    "print(a)\n",
    "\n",
    "# Convert from long to wide format\n",
    "b = a.pivot(columns=\"group\", values=\"value\")\n",
    "\n",
    "print(b)\n",
    "\n",
    "# Additionally, convert from b into a (wide to long).\n",
    "b = pd.DataFrame(\n",
    "    {\"a\": [1, 2, 3], \"b\": [4, 5, 6]}\n",
    ")\n",
    "print(b)\n",
    "# Convert from wide to long format\n",
    "a = b.melt(var_name='group', value_name='value')\n",
    "print(a)"
   ]
  }
 ],
 "metadata": {
  "kernelspec": {
   "display_name": "Python 3 (ipykernel)",
   "language": "python",
   "name": "python3"
  },
  "language_info": {
   "codemirror_mode": {
    "name": "ipython",
    "version": 3
   },
   "file_extension": ".py",
   "mimetype": "text/x-python",
   "name": "python",
   "nbconvert_exporter": "python",
   "pygments_lexer": "ipython3",
   "version": "3.9.12"
  }
 },
 "nbformat": 4,
 "nbformat_minor": 5
}
